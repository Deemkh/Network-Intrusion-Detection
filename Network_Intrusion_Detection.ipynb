{
  "nbformat": 4,
  "nbformat_minor": 0,
  "metadata": {
    "colab": {
      "provenance": []
    },
    "kernelspec": {
      "name": "python3",
      "display_name": "Python 3"
    },
    "language_info": {
      "name": "python"
    }
  },
  "cells": [
    {
      "cell_type": "markdown",
      "source": [
        "# *This is an implementation of a network intrusion detection system by using Machine Learning algorithm, specifically a decision tree model with data analysis and performance evaluation*"
      ],
      "metadata": {
        "id": "o5JHzJ9oZPvE"
      }
    },
    {
      "cell_type": "markdown",
      "source": [
        "#Importing Important Libraries"
      ],
      "metadata": {
        "id": "9c9deXN9vqzk"
      }
    },
    {
      "cell_type": "markdown",
      "source": [
        "\n",
        "\n",
        "* **import pandas as pd:** This imports the pandas library and allows the user to use its functions for working with data in tabular format.\n",
        "* **import matplotlib.pyplot as plt**: This imports the matplotlib library and allows the user to use its functions for creating visualizations such as graphs and charts.\n",
        "* **import numpy as np:** This imports the NumPy library and allows the user to use its functions for performing numerical computations.\n",
        "* **from sklearn.preprocessing import LabelEncoder, StandardScaler**: This imports the LabelEncoder and StandardScaler classes from the scikit-learn library's preprocessing module, which are used for encoding categorical variables and scaling numerical variables, respectively.\n",
        "* **from sklearn.preprocessing import label_binarize:** This imports the label_binarize function from the scikit-learn library's preprocessing module, which is used for binarizing multiclass labels into binary labels.\n",
        "*  **from sklearn.tree import DecisionTreeClassifier:** This imports the DecisionTreeClassifier class from the scikit-learn library's tree module, which is used for building decision tree models.\n",
        "*  **from sklearn.metrics import accuracy_score, confusion_matrix**: This imports the accuracy_score and confusion_matrix functions from the scikit-learn library's metrics module, which are used for evaluating the performance of a classification model.\n",
        "*   **from sklearn.metrics import classification_report**: This imports the classification_report function from the scikit-learn library's metrics module, which is used for generating a report that summarizes the classification performance of a model.\n",
        "*   **from sklearn.metrics import roc_curve, auc:** This imports the roc_curve and auc functions from the scikit-learn library's metrics module, which are used for plotting a receiver operating characteristic (ROC) curve and calculating the area under the curve (AUC) of a binary classification model.\n",
        "*  ** from sklearn.model_selection import train_test_split:** This imports the train_test_split function from the scikit-learn library's model_selection module, which is used for splitting a dataset into training and testing sets.\n",
        "*  **from sklearn.model_selection import cross_val_score:** This imports the cross_val_score function from the scikit-learn library's model_selection module, which is used for performing cross-validation on a model.\n",
        "*  **from sklearn.calibration import calibration_curve**:This imports the calibration_curve function from the scikit-learn library's calibration module, which is used for plotting a calibration curve to assess the calibration of a probabilistic classifier."
      ],
      "metadata": {
        "id": "Q_6mGisyYAjV"
      }
    },
    {
      "cell_type": "code",
      "execution_count": 26,
      "metadata": {
        "id": "WBUNES71ujLB"
      },
      "outputs": [],
      "source": [
        "import pandas as pd\n",
        "import matplotlib.pyplot as plt\n",
        "import numpy as np\n",
        "\n",
        "from sklearn.preprocessing import LabelEncoder, StandardScaler\n",
        "from sklearn.preprocessing import label_binarize\n",
        "\n",
        "from sklearn.tree import DecisionTreeClassifier\n",
        "\n",
        "from sklearn.metrics import accuracy_score, confusion_matrix\n",
        "from sklearn.metrics import classification_report\n",
        "from sklearn.metrics import roc_curve, auc\n",
        "\n",
        "from sklearn.model_selection import train_test_split\n",
        "from sklearn.model_selection import train_test_split\n",
        "from sklearn.model_selection import cross_val_score\n",
        "\n",
        "from sklearn.calibration import calibration_curve\n",
        "\n",
        "import seaborn as sns"
      ]
    },
    {
      "cell_type": "markdown",
      "source": [
        "#Loading & Analayzing Dataset\n"
      ],
      "metadata": {
        "id": "kVmb6d-vvoug"
      }
    },
    {
      "cell_type": "code",
      "source": [
        "df = pd.read_csv('/content/drive/MyDrive/Colab Notebooks/Network Intrusion Detection/networkintrusion.csv')"
      ],
      "metadata": {
        "id": "4ek2vrL8veXa"
      },
      "execution_count": 7,
      "outputs": []
    },
    {
      "cell_type": "code",
      "source": [
        "#The df.head() code displays the first few rows of a Pandas DataFrame, allowing for a quick preview of the data.\n",
        "df.head()"
      ],
      "metadata": {
        "colab": {
          "base_uri": "https://localhost:8080/",
          "height": 300
        },
        "id": "tZbn8cvEIsnl",
        "outputId": "47c62634-3deb-4f56-a510-9f02dd819be4"
      },
      "execution_count": 8,
      "outputs": [
        {
          "output_type": "execute_result",
          "data": {
            "text/plain": [
              "   duration protocol_type   service  flag  src_bytes  dst_bytes  land  \\\n",
              "0         0           tcp   private   REJ        0.0        0.0     0   \n",
              "1         0           tcp   private   REJ        0.0        0.0     0   \n",
              "2         2           tcp  ftp_data    SF    12983.0        0.0     0   \n",
              "3         0          icmp     eco_i    SF       20.0        0.0     0   \n",
              "4         1           tcp    telnet  RSTO        0.0       15.0     0   \n",
              "\n",
              "   wrong_fragment  urgent  hot  ...  dst_host_srv_count  \\\n",
              "0               0       0    0  ...                  10   \n",
              "1               0       0    0  ...                   1   \n",
              "2               0       0    0  ...                  86   \n",
              "3               0       0    0  ...                  57   \n",
              "4               0       0    0  ...                  86   \n",
              "\n",
              "   dst_host_same_srv_rate  dst_host_diff_srv_rate  \\\n",
              "0                    0.04                    0.06   \n",
              "1                    0.00                    0.06   \n",
              "2                    0.61                    0.04   \n",
              "3                    1.00                    0.00   \n",
              "4                    0.31                    0.17   \n",
              "\n",
              "   dst_host_same_src_port_rate  dst_host_srv_diff_host_rate  \\\n",
              "0                         0.00                         0.00   \n",
              "1                         0.00                         0.00   \n",
              "2                         0.61                         0.02   \n",
              "3                         1.00                         0.28   \n",
              "4                         0.03                         0.02   \n",
              "\n",
              "   dst_host_serror_rate  dst_host_srv_serror_rate  dst_host_rerror_rate  \\\n",
              "0                   0.0                       0.0                  1.00   \n",
              "1                   0.0                       0.0                  1.00   \n",
              "2                   0.0                       0.0                  0.00   \n",
              "3                   0.0                       0.0                  0.00   \n",
              "4                   0.0                       0.0                  0.83   \n",
              "\n",
              "   dst_host_srv_rerror_rate    class  \n",
              "0                      1.00  anomaly  \n",
              "1                      1.00  anomaly  \n",
              "2                      0.00   normal  \n",
              "3                      0.00  anomaly  \n",
              "4                      0.71  anomaly  \n",
              "\n",
              "[5 rows x 40 columns]"
            ],
            "text/html": [
              "\n",
              "  <div id=\"df-5be4589d-22ef-4246-897f-08cb983c5cfd\">\n",
              "    <div class=\"colab-df-container\">\n",
              "      <div>\n",
              "<style scoped>\n",
              "    .dataframe tbody tr th:only-of-type {\n",
              "        vertical-align: middle;\n",
              "    }\n",
              "\n",
              "    .dataframe tbody tr th {\n",
              "        vertical-align: top;\n",
              "    }\n",
              "\n",
              "    .dataframe thead th {\n",
              "        text-align: right;\n",
              "    }\n",
              "</style>\n",
              "<table border=\"1\" class=\"dataframe\">\n",
              "  <thead>\n",
              "    <tr style=\"text-align: right;\">\n",
              "      <th></th>\n",
              "      <th>duration</th>\n",
              "      <th>protocol_type</th>\n",
              "      <th>service</th>\n",
              "      <th>flag</th>\n",
              "      <th>src_bytes</th>\n",
              "      <th>dst_bytes</th>\n",
              "      <th>land</th>\n",
              "      <th>wrong_fragment</th>\n",
              "      <th>urgent</th>\n",
              "      <th>hot</th>\n",
              "      <th>...</th>\n",
              "      <th>dst_host_srv_count</th>\n",
              "      <th>dst_host_same_srv_rate</th>\n",
              "      <th>dst_host_diff_srv_rate</th>\n",
              "      <th>dst_host_same_src_port_rate</th>\n",
              "      <th>dst_host_srv_diff_host_rate</th>\n",
              "      <th>dst_host_serror_rate</th>\n",
              "      <th>dst_host_srv_serror_rate</th>\n",
              "      <th>dst_host_rerror_rate</th>\n",
              "      <th>dst_host_srv_rerror_rate</th>\n",
              "      <th>class</th>\n",
              "    </tr>\n",
              "  </thead>\n",
              "  <tbody>\n",
              "    <tr>\n",
              "      <th>0</th>\n",
              "      <td>0</td>\n",
              "      <td>tcp</td>\n",
              "      <td>private</td>\n",
              "      <td>REJ</td>\n",
              "      <td>0.0</td>\n",
              "      <td>0.0</td>\n",
              "      <td>0</td>\n",
              "      <td>0</td>\n",
              "      <td>0</td>\n",
              "      <td>0</td>\n",
              "      <td>...</td>\n",
              "      <td>10</td>\n",
              "      <td>0.04</td>\n",
              "      <td>0.06</td>\n",
              "      <td>0.00</td>\n",
              "      <td>0.00</td>\n",
              "      <td>0.0</td>\n",
              "      <td>0.0</td>\n",
              "      <td>1.00</td>\n",
              "      <td>1.00</td>\n",
              "      <td>anomaly</td>\n",
              "    </tr>\n",
              "    <tr>\n",
              "      <th>1</th>\n",
              "      <td>0</td>\n",
              "      <td>tcp</td>\n",
              "      <td>private</td>\n",
              "      <td>REJ</td>\n",
              "      <td>0.0</td>\n",
              "      <td>0.0</td>\n",
              "      <td>0</td>\n",
              "      <td>0</td>\n",
              "      <td>0</td>\n",
              "      <td>0</td>\n",
              "      <td>...</td>\n",
              "      <td>1</td>\n",
              "      <td>0.00</td>\n",
              "      <td>0.06</td>\n",
              "      <td>0.00</td>\n",
              "      <td>0.00</td>\n",
              "      <td>0.0</td>\n",
              "      <td>0.0</td>\n",
              "      <td>1.00</td>\n",
              "      <td>1.00</td>\n",
              "      <td>anomaly</td>\n",
              "    </tr>\n",
              "    <tr>\n",
              "      <th>2</th>\n",
              "      <td>2</td>\n",
              "      <td>tcp</td>\n",
              "      <td>ftp_data</td>\n",
              "      <td>SF</td>\n",
              "      <td>12983.0</td>\n",
              "      <td>0.0</td>\n",
              "      <td>0</td>\n",
              "      <td>0</td>\n",
              "      <td>0</td>\n",
              "      <td>0</td>\n",
              "      <td>...</td>\n",
              "      <td>86</td>\n",
              "      <td>0.61</td>\n",
              "      <td>0.04</td>\n",
              "      <td>0.61</td>\n",
              "      <td>0.02</td>\n",
              "      <td>0.0</td>\n",
              "      <td>0.0</td>\n",
              "      <td>0.00</td>\n",
              "      <td>0.00</td>\n",
              "      <td>normal</td>\n",
              "    </tr>\n",
              "    <tr>\n",
              "      <th>3</th>\n",
              "      <td>0</td>\n",
              "      <td>icmp</td>\n",
              "      <td>eco_i</td>\n",
              "      <td>SF</td>\n",
              "      <td>20.0</td>\n",
              "      <td>0.0</td>\n",
              "      <td>0</td>\n",
              "      <td>0</td>\n",
              "      <td>0</td>\n",
              "      <td>0</td>\n",
              "      <td>...</td>\n",
              "      <td>57</td>\n",
              "      <td>1.00</td>\n",
              "      <td>0.00</td>\n",
              "      <td>1.00</td>\n",
              "      <td>0.28</td>\n",
              "      <td>0.0</td>\n",
              "      <td>0.0</td>\n",
              "      <td>0.00</td>\n",
              "      <td>0.00</td>\n",
              "      <td>anomaly</td>\n",
              "    </tr>\n",
              "    <tr>\n",
              "      <th>4</th>\n",
              "      <td>1</td>\n",
              "      <td>tcp</td>\n",
              "      <td>telnet</td>\n",
              "      <td>RSTO</td>\n",
              "      <td>0.0</td>\n",
              "      <td>15.0</td>\n",
              "      <td>0</td>\n",
              "      <td>0</td>\n",
              "      <td>0</td>\n",
              "      <td>0</td>\n",
              "      <td>...</td>\n",
              "      <td>86</td>\n",
              "      <td>0.31</td>\n",
              "      <td>0.17</td>\n",
              "      <td>0.03</td>\n",
              "      <td>0.02</td>\n",
              "      <td>0.0</td>\n",
              "      <td>0.0</td>\n",
              "      <td>0.83</td>\n",
              "      <td>0.71</td>\n",
              "      <td>anomaly</td>\n",
              "    </tr>\n",
              "  </tbody>\n",
              "</table>\n",
              "<p>5 rows × 40 columns</p>\n",
              "</div>\n",
              "      <button class=\"colab-df-convert\" onclick=\"convertToInteractive('df-5be4589d-22ef-4246-897f-08cb983c5cfd')\"\n",
              "              title=\"Convert this dataframe to an interactive table.\"\n",
              "              style=\"display:none;\">\n",
              "        \n",
              "  <svg xmlns=\"http://www.w3.org/2000/svg\" height=\"24px\"viewBox=\"0 0 24 24\"\n",
              "       width=\"24px\">\n",
              "    <path d=\"M0 0h24v24H0V0z\" fill=\"none\"/>\n",
              "    <path d=\"M18.56 5.44l.94 2.06.94-2.06 2.06-.94-2.06-.94-.94-2.06-.94 2.06-2.06.94zm-11 1L8.5 8.5l.94-2.06 2.06-.94-2.06-.94L8.5 2.5l-.94 2.06-2.06.94zm10 10l.94 2.06.94-2.06 2.06-.94-2.06-.94-.94-2.06-.94 2.06-2.06.94z\"/><path d=\"M17.41 7.96l-1.37-1.37c-.4-.4-.92-.59-1.43-.59-.52 0-1.04.2-1.43.59L10.3 9.45l-7.72 7.72c-.78.78-.78 2.05 0 2.83L4 21.41c.39.39.9.59 1.41.59.51 0 1.02-.2 1.41-.59l7.78-7.78 2.81-2.81c.8-.78.8-2.07 0-2.86zM5.41 20L4 18.59l7.72-7.72 1.47 1.35L5.41 20z\"/>\n",
              "  </svg>\n",
              "      </button>\n",
              "      \n",
              "  <style>\n",
              "    .colab-df-container {\n",
              "      display:flex;\n",
              "      flex-wrap:wrap;\n",
              "      gap: 12px;\n",
              "    }\n",
              "\n",
              "    .colab-df-convert {\n",
              "      background-color: #E8F0FE;\n",
              "      border: none;\n",
              "      border-radius: 50%;\n",
              "      cursor: pointer;\n",
              "      display: none;\n",
              "      fill: #1967D2;\n",
              "      height: 32px;\n",
              "      padding: 0 0 0 0;\n",
              "      width: 32px;\n",
              "    }\n",
              "\n",
              "    .colab-df-convert:hover {\n",
              "      background-color: #E2EBFA;\n",
              "      box-shadow: 0px 1px 2px rgba(60, 64, 67, 0.3), 0px 1px 3px 1px rgba(60, 64, 67, 0.15);\n",
              "      fill: #174EA6;\n",
              "    }\n",
              "\n",
              "    [theme=dark] .colab-df-convert {\n",
              "      background-color: #3B4455;\n",
              "      fill: #D2E3FC;\n",
              "    }\n",
              "\n",
              "    [theme=dark] .colab-df-convert:hover {\n",
              "      background-color: #434B5C;\n",
              "      box-shadow: 0px 1px 3px 1px rgba(0, 0, 0, 0.15);\n",
              "      filter: drop-shadow(0px 1px 2px rgba(0, 0, 0, 0.3));\n",
              "      fill: #FFFFFF;\n",
              "    }\n",
              "  </style>\n",
              "\n",
              "      <script>\n",
              "        const buttonEl =\n",
              "          document.querySelector('#df-5be4589d-22ef-4246-897f-08cb983c5cfd button.colab-df-convert');\n",
              "        buttonEl.style.display =\n",
              "          google.colab.kernel.accessAllowed ? 'block' : 'none';\n",
              "\n",
              "        async function convertToInteractive(key) {\n",
              "          const element = document.querySelector('#df-5be4589d-22ef-4246-897f-08cb983c5cfd');\n",
              "          const dataTable =\n",
              "            await google.colab.kernel.invokeFunction('convertToInteractive',\n",
              "                                                     [key], {});\n",
              "          if (!dataTable) return;\n",
              "\n",
              "          const docLinkHtml = 'Like what you see? Visit the ' +\n",
              "            '<a target=\"_blank\" href=https://colab.research.google.com/notebooks/data_table.ipynb>data table notebook</a>'\n",
              "            + ' to learn more about interactive tables.';\n",
              "          element.innerHTML = '';\n",
              "          dataTable['output_type'] = 'display_data';\n",
              "          await google.colab.output.renderOutput(dataTable, element);\n",
              "          const docLink = document.createElement('div');\n",
              "          docLink.innerHTML = docLinkHtml;\n",
              "          element.appendChild(docLink);\n",
              "        }\n",
              "      </script>\n",
              "    </div>\n",
              "  </div>\n",
              "  "
            ]
          },
          "metadata": {},
          "execution_count": 8
        }
      ]
    },
    {
      "cell_type": "code",
      "source": [
        "# To returns the number of unique values in each column of a pandas DataFrame.\n",
        "df.nunique()"
      ],
      "metadata": {
        "id": "Y8PxGPWuv6LZ",
        "colab": {
          "base_uri": "https://localhost:8080/"
        },
        "outputId": "95ed04a9-ac2e-4a3a-acda-8be99598fe0f"
      },
      "execution_count": 9,
      "outputs": [
        {
          "output_type": "execute_result",
          "data": {
            "text/plain": [
              "duration                        624\n",
              "protocol_type                     3\n",
              "service                          64\n",
              "flag                             11\n",
              "src_bytes                      1149\n",
              "dst_bytes                      3649\n",
              "land                              2\n",
              "wrong_fragment                    3\n",
              "urgent                            4\n",
              "hot                              16\n",
              "num_failed_logins                 5\n",
              "logged_in                         2\n",
              "num_compromised                  23\n",
              "root_shell                        2\n",
              "num_root                         20\n",
              "num_shells                        4\n",
              "num_access_files                  5\n",
              "num_outbound_cmds                 1\n",
              "is_host_login                     2\n",
              "is_guest_login                    2\n",
              "count                           495\n",
              "srv_count                       457\n",
              "serror_rate                      88\n",
              "srv_serror_rate                  82\n",
              "rerror_rate                      90\n",
              "srv_rerror_rate                  93\n",
              "same_srv_rate                    75\n",
              "diff_srv_rate                    99\n",
              "srv_diff_host_rate               84\n",
              "dst_host_count                  256\n",
              "dst_host_srv_count              256\n",
              "dst_host_same_srv_rate          101\n",
              "dst_host_diff_srv_rate          101\n",
              "dst_host_same_src_port_rate     101\n",
              "dst_host_srv_diff_host_rate      58\n",
              "dst_host_serror_rate             99\n",
              "dst_host_srv_serror_rate        101\n",
              "dst_host_rerror_rate            101\n",
              "dst_host_srv_rerror_rate        100\n",
              "class                             2\n",
              "dtype: int64"
            ]
          },
          "metadata": {},
          "execution_count": 9
        }
      ]
    },
    {
      "cell_type": "code",
      "source": [
        "#df.columns returns a list of column names in the Pandas DataFrame df.\n",
        "df.columns"
      ],
      "metadata": {
        "id": "W6kQtyP1tp1r",
        "colab": {
          "base_uri": "https://localhost:8080/"
        },
        "outputId": "ad1e7fa7-920e-46ac-e340-87c71eee9b25"
      },
      "execution_count": 10,
      "outputs": [
        {
          "output_type": "execute_result",
          "data": {
            "text/plain": [
              "Index(['duration', 'protocol_type', 'service', 'flag', 'src_bytes',\n",
              "       'dst_bytes', 'land', 'wrong_fragment', 'urgent', 'hot',\n",
              "       'num_failed_logins', 'logged_in', 'num_compromised', 'root_shell',\n",
              "       'num_root', 'num_shells', 'num_access_files', 'num_outbound_cmds',\n",
              "       'is_host_login', 'is_guest_login', 'count', 'srv_count', 'serror_rate',\n",
              "       'srv_serror_rate', 'rerror_rate', 'srv_rerror_rate', 'same_srv_rate',\n",
              "       'diff_srv_rate', 'srv_diff_host_rate', 'dst_host_count',\n",
              "       'dst_host_srv_count', 'dst_host_same_srv_rate',\n",
              "       'dst_host_diff_srv_rate', 'dst_host_same_src_port_rate',\n",
              "       'dst_host_srv_diff_host_rate', 'dst_host_serror_rate',\n",
              "       'dst_host_srv_serror_rate', 'dst_host_rerror_rate',\n",
              "       'dst_host_srv_rerror_rate', 'class'],\n",
              "      dtype='object')"
            ]
          },
          "metadata": {},
          "execution_count": 10
        }
      ]
    },
    {
      "cell_type": "code",
      "source": [
        "#df.describe() returns the statistical summary of the numerical columns in a pandas DataFrame, \n",
        "#including count, mean, standard deviation, minimum, 25th percentile, median (50th percentile), 75th percentile, and maximum values.\n",
        "df.describe()"
      ],
      "metadata": {
        "id": "w9OoKTeEt0Wz",
        "colab": {
          "base_uri": "https://localhost:8080/",
          "height": 394
        },
        "outputId": "492ba06f-df19-4157-ab96-54e0dd3e483f"
      },
      "execution_count": 11,
      "outputs": [
        {
          "output_type": "execute_result",
          "data": {
            "text/plain": [
              "           duration     src_bytes     dst_bytes          land  wrong_fragment  \\\n",
              "count  22544.000000  2.253800e+04  2.253800e+04  22544.000000    22544.000000   \n",
              "mean     218.859076  1.039812e+04  2.055584e+03      0.000311        0.008428   \n",
              "std     1407.176612  4.728493e+05  2.122190e+04      0.017619        0.142599   \n",
              "min        0.000000  0.000000e+00  0.000000e+00      0.000000        0.000000   \n",
              "25%        0.000000  0.000000e+00  0.000000e+00      0.000000        0.000000   \n",
              "50%        0.000000  5.400000e+01  4.600000e+01      0.000000        0.000000   \n",
              "75%        0.000000  2.870000e+02  6.010000e+02      0.000000        0.000000   \n",
              "max    57715.000000  6.282565e+07  1.345927e+06      1.000000        3.000000   \n",
              "\n",
              "             urgent           hot  num_failed_logins     logged_in  \\\n",
              "count  22544.000000  22544.000000       22544.000000  22544.000000   \n",
              "mean       0.000710      0.105394           0.021647      0.442202   \n",
              "std        0.036473      0.928428           0.150328      0.496659   \n",
              "min        0.000000      0.000000           0.000000      0.000000   \n",
              "25%        0.000000      0.000000           0.000000      0.000000   \n",
              "50%        0.000000      0.000000           0.000000      0.000000   \n",
              "75%        0.000000      0.000000           0.000000      1.000000   \n",
              "max        3.000000    101.000000           4.000000      1.000000   \n",
              "\n",
              "       num_compromised  ...  dst_host_count  dst_host_srv_count  \\\n",
              "count     22544.000000  ...    22544.000000        22544.000000   \n",
              "mean          0.119899  ...      193.869411          140.750532   \n",
              "std           7.269597  ...       94.035663          111.783972   \n",
              "min           0.000000  ...        0.000000            0.000000   \n",
              "25%           0.000000  ...      121.000000           15.000000   \n",
              "50%           0.000000  ...      255.000000          168.000000   \n",
              "75%           0.000000  ...      255.000000          255.000000   \n",
              "max         796.000000  ...      255.000000          255.000000   \n",
              "\n",
              "       dst_host_same_srv_rate  dst_host_diff_srv_rate  \\\n",
              "count            22544.000000            22544.000000   \n",
              "mean                 0.608722                0.090540   \n",
              "std                  0.435688                0.220717   \n",
              "min                  0.000000                0.000000   \n",
              "25%                  0.070000                0.000000   \n",
              "50%                  0.920000                0.010000   \n",
              "75%                  1.000000                0.060000   \n",
              "max                  1.000000                1.000000   \n",
              "\n",
              "       dst_host_same_src_port_rate  dst_host_srv_diff_host_rate  \\\n",
              "count                 22544.000000                 22544.000000   \n",
              "mean                      0.132261                     0.019638   \n",
              "std                       0.306268                     0.085394   \n",
              "min                       0.000000                     0.000000   \n",
              "25%                       0.000000                     0.000000   \n",
              "50%                       0.000000                     0.000000   \n",
              "75%                       0.030000                     0.010000   \n",
              "max                       1.000000                     1.000000   \n",
              "\n",
              "       dst_host_serror_rate  dst_host_srv_serror_rate  dst_host_rerror_rate  \\\n",
              "count          22544.000000              22544.000000          22544.000000   \n",
              "mean               0.097814                  0.099426              0.233385   \n",
              "std                0.273139                  0.281866              0.387229   \n",
              "min                0.000000                  0.000000              0.000000   \n",
              "25%                0.000000                  0.000000              0.000000   \n",
              "50%                0.000000                  0.000000              0.000000   \n",
              "75%                0.000000                  0.000000              0.360000   \n",
              "max                1.000000                  1.000000              1.000000   \n",
              "\n",
              "       dst_host_srv_rerror_rate  \n",
              "count              22544.000000  \n",
              "mean                   0.226683  \n",
              "std                    0.400875  \n",
              "min                    0.000000  \n",
              "25%                    0.000000  \n",
              "50%                    0.000000  \n",
              "75%                    0.170000  \n",
              "max                    1.000000  \n",
              "\n",
              "[8 rows x 36 columns]"
            ],
            "text/html": [
              "\n",
              "  <div id=\"df-e8ad4d0f-91d1-4bc6-8841-bd2d716b019e\">\n",
              "    <div class=\"colab-df-container\">\n",
              "      <div>\n",
              "<style scoped>\n",
              "    .dataframe tbody tr th:only-of-type {\n",
              "        vertical-align: middle;\n",
              "    }\n",
              "\n",
              "    .dataframe tbody tr th {\n",
              "        vertical-align: top;\n",
              "    }\n",
              "\n",
              "    .dataframe thead th {\n",
              "        text-align: right;\n",
              "    }\n",
              "</style>\n",
              "<table border=\"1\" class=\"dataframe\">\n",
              "  <thead>\n",
              "    <tr style=\"text-align: right;\">\n",
              "      <th></th>\n",
              "      <th>duration</th>\n",
              "      <th>src_bytes</th>\n",
              "      <th>dst_bytes</th>\n",
              "      <th>land</th>\n",
              "      <th>wrong_fragment</th>\n",
              "      <th>urgent</th>\n",
              "      <th>hot</th>\n",
              "      <th>num_failed_logins</th>\n",
              "      <th>logged_in</th>\n",
              "      <th>num_compromised</th>\n",
              "      <th>...</th>\n",
              "      <th>dst_host_count</th>\n",
              "      <th>dst_host_srv_count</th>\n",
              "      <th>dst_host_same_srv_rate</th>\n",
              "      <th>dst_host_diff_srv_rate</th>\n",
              "      <th>dst_host_same_src_port_rate</th>\n",
              "      <th>dst_host_srv_diff_host_rate</th>\n",
              "      <th>dst_host_serror_rate</th>\n",
              "      <th>dst_host_srv_serror_rate</th>\n",
              "      <th>dst_host_rerror_rate</th>\n",
              "      <th>dst_host_srv_rerror_rate</th>\n",
              "    </tr>\n",
              "  </thead>\n",
              "  <tbody>\n",
              "    <tr>\n",
              "      <th>count</th>\n",
              "      <td>22544.000000</td>\n",
              "      <td>2.253800e+04</td>\n",
              "      <td>2.253800e+04</td>\n",
              "      <td>22544.000000</td>\n",
              "      <td>22544.000000</td>\n",
              "      <td>22544.000000</td>\n",
              "      <td>22544.000000</td>\n",
              "      <td>22544.000000</td>\n",
              "      <td>22544.000000</td>\n",
              "      <td>22544.000000</td>\n",
              "      <td>...</td>\n",
              "      <td>22544.000000</td>\n",
              "      <td>22544.000000</td>\n",
              "      <td>22544.000000</td>\n",
              "      <td>22544.000000</td>\n",
              "      <td>22544.000000</td>\n",
              "      <td>22544.000000</td>\n",
              "      <td>22544.000000</td>\n",
              "      <td>22544.000000</td>\n",
              "      <td>22544.000000</td>\n",
              "      <td>22544.000000</td>\n",
              "    </tr>\n",
              "    <tr>\n",
              "      <th>mean</th>\n",
              "      <td>218.859076</td>\n",
              "      <td>1.039812e+04</td>\n",
              "      <td>2.055584e+03</td>\n",
              "      <td>0.000311</td>\n",
              "      <td>0.008428</td>\n",
              "      <td>0.000710</td>\n",
              "      <td>0.105394</td>\n",
              "      <td>0.021647</td>\n",
              "      <td>0.442202</td>\n",
              "      <td>0.119899</td>\n",
              "      <td>...</td>\n",
              "      <td>193.869411</td>\n",
              "      <td>140.750532</td>\n",
              "      <td>0.608722</td>\n",
              "      <td>0.090540</td>\n",
              "      <td>0.132261</td>\n",
              "      <td>0.019638</td>\n",
              "      <td>0.097814</td>\n",
              "      <td>0.099426</td>\n",
              "      <td>0.233385</td>\n",
              "      <td>0.226683</td>\n",
              "    </tr>\n",
              "    <tr>\n",
              "      <th>std</th>\n",
              "      <td>1407.176612</td>\n",
              "      <td>4.728493e+05</td>\n",
              "      <td>2.122190e+04</td>\n",
              "      <td>0.017619</td>\n",
              "      <td>0.142599</td>\n",
              "      <td>0.036473</td>\n",
              "      <td>0.928428</td>\n",
              "      <td>0.150328</td>\n",
              "      <td>0.496659</td>\n",
              "      <td>7.269597</td>\n",
              "      <td>...</td>\n",
              "      <td>94.035663</td>\n",
              "      <td>111.783972</td>\n",
              "      <td>0.435688</td>\n",
              "      <td>0.220717</td>\n",
              "      <td>0.306268</td>\n",
              "      <td>0.085394</td>\n",
              "      <td>0.273139</td>\n",
              "      <td>0.281866</td>\n",
              "      <td>0.387229</td>\n",
              "      <td>0.400875</td>\n",
              "    </tr>\n",
              "    <tr>\n",
              "      <th>min</th>\n",
              "      <td>0.000000</td>\n",
              "      <td>0.000000e+00</td>\n",
              "      <td>0.000000e+00</td>\n",
              "      <td>0.000000</td>\n",
              "      <td>0.000000</td>\n",
              "      <td>0.000000</td>\n",
              "      <td>0.000000</td>\n",
              "      <td>0.000000</td>\n",
              "      <td>0.000000</td>\n",
              "      <td>0.000000</td>\n",
              "      <td>...</td>\n",
              "      <td>0.000000</td>\n",
              "      <td>0.000000</td>\n",
              "      <td>0.000000</td>\n",
              "      <td>0.000000</td>\n",
              "      <td>0.000000</td>\n",
              "      <td>0.000000</td>\n",
              "      <td>0.000000</td>\n",
              "      <td>0.000000</td>\n",
              "      <td>0.000000</td>\n",
              "      <td>0.000000</td>\n",
              "    </tr>\n",
              "    <tr>\n",
              "      <th>25%</th>\n",
              "      <td>0.000000</td>\n",
              "      <td>0.000000e+00</td>\n",
              "      <td>0.000000e+00</td>\n",
              "      <td>0.000000</td>\n",
              "      <td>0.000000</td>\n",
              "      <td>0.000000</td>\n",
              "      <td>0.000000</td>\n",
              "      <td>0.000000</td>\n",
              "      <td>0.000000</td>\n",
              "      <td>0.000000</td>\n",
              "      <td>...</td>\n",
              "      <td>121.000000</td>\n",
              "      <td>15.000000</td>\n",
              "      <td>0.070000</td>\n",
              "      <td>0.000000</td>\n",
              "      <td>0.000000</td>\n",
              "      <td>0.000000</td>\n",
              "      <td>0.000000</td>\n",
              "      <td>0.000000</td>\n",
              "      <td>0.000000</td>\n",
              "      <td>0.000000</td>\n",
              "    </tr>\n",
              "    <tr>\n",
              "      <th>50%</th>\n",
              "      <td>0.000000</td>\n",
              "      <td>5.400000e+01</td>\n",
              "      <td>4.600000e+01</td>\n",
              "      <td>0.000000</td>\n",
              "      <td>0.000000</td>\n",
              "      <td>0.000000</td>\n",
              "      <td>0.000000</td>\n",
              "      <td>0.000000</td>\n",
              "      <td>0.000000</td>\n",
              "      <td>0.000000</td>\n",
              "      <td>...</td>\n",
              "      <td>255.000000</td>\n",
              "      <td>168.000000</td>\n",
              "      <td>0.920000</td>\n",
              "      <td>0.010000</td>\n",
              "      <td>0.000000</td>\n",
              "      <td>0.000000</td>\n",
              "      <td>0.000000</td>\n",
              "      <td>0.000000</td>\n",
              "      <td>0.000000</td>\n",
              "      <td>0.000000</td>\n",
              "    </tr>\n",
              "    <tr>\n",
              "      <th>75%</th>\n",
              "      <td>0.000000</td>\n",
              "      <td>2.870000e+02</td>\n",
              "      <td>6.010000e+02</td>\n",
              "      <td>0.000000</td>\n",
              "      <td>0.000000</td>\n",
              "      <td>0.000000</td>\n",
              "      <td>0.000000</td>\n",
              "      <td>0.000000</td>\n",
              "      <td>1.000000</td>\n",
              "      <td>0.000000</td>\n",
              "      <td>...</td>\n",
              "      <td>255.000000</td>\n",
              "      <td>255.000000</td>\n",
              "      <td>1.000000</td>\n",
              "      <td>0.060000</td>\n",
              "      <td>0.030000</td>\n",
              "      <td>0.010000</td>\n",
              "      <td>0.000000</td>\n",
              "      <td>0.000000</td>\n",
              "      <td>0.360000</td>\n",
              "      <td>0.170000</td>\n",
              "    </tr>\n",
              "    <tr>\n",
              "      <th>max</th>\n",
              "      <td>57715.000000</td>\n",
              "      <td>6.282565e+07</td>\n",
              "      <td>1.345927e+06</td>\n",
              "      <td>1.000000</td>\n",
              "      <td>3.000000</td>\n",
              "      <td>3.000000</td>\n",
              "      <td>101.000000</td>\n",
              "      <td>4.000000</td>\n",
              "      <td>1.000000</td>\n",
              "      <td>796.000000</td>\n",
              "      <td>...</td>\n",
              "      <td>255.000000</td>\n",
              "      <td>255.000000</td>\n",
              "      <td>1.000000</td>\n",
              "      <td>1.000000</td>\n",
              "      <td>1.000000</td>\n",
              "      <td>1.000000</td>\n",
              "      <td>1.000000</td>\n",
              "      <td>1.000000</td>\n",
              "      <td>1.000000</td>\n",
              "      <td>1.000000</td>\n",
              "    </tr>\n",
              "  </tbody>\n",
              "</table>\n",
              "<p>8 rows × 36 columns</p>\n",
              "</div>\n",
              "      <button class=\"colab-df-convert\" onclick=\"convertToInteractive('df-e8ad4d0f-91d1-4bc6-8841-bd2d716b019e')\"\n",
              "              title=\"Convert this dataframe to an interactive table.\"\n",
              "              style=\"display:none;\">\n",
              "        \n",
              "  <svg xmlns=\"http://www.w3.org/2000/svg\" height=\"24px\"viewBox=\"0 0 24 24\"\n",
              "       width=\"24px\">\n",
              "    <path d=\"M0 0h24v24H0V0z\" fill=\"none\"/>\n",
              "    <path d=\"M18.56 5.44l.94 2.06.94-2.06 2.06-.94-2.06-.94-.94-2.06-.94 2.06-2.06.94zm-11 1L8.5 8.5l.94-2.06 2.06-.94-2.06-.94L8.5 2.5l-.94 2.06-2.06.94zm10 10l.94 2.06.94-2.06 2.06-.94-2.06-.94-.94-2.06-.94 2.06-2.06.94z\"/><path d=\"M17.41 7.96l-1.37-1.37c-.4-.4-.92-.59-1.43-.59-.52 0-1.04.2-1.43.59L10.3 9.45l-7.72 7.72c-.78.78-.78 2.05 0 2.83L4 21.41c.39.39.9.59 1.41.59.51 0 1.02-.2 1.41-.59l7.78-7.78 2.81-2.81c.8-.78.8-2.07 0-2.86zM5.41 20L4 18.59l7.72-7.72 1.47 1.35L5.41 20z\"/>\n",
              "  </svg>\n",
              "      </button>\n",
              "      \n",
              "  <style>\n",
              "    .colab-df-container {\n",
              "      display:flex;\n",
              "      flex-wrap:wrap;\n",
              "      gap: 12px;\n",
              "    }\n",
              "\n",
              "    .colab-df-convert {\n",
              "      background-color: #E8F0FE;\n",
              "      border: none;\n",
              "      border-radius: 50%;\n",
              "      cursor: pointer;\n",
              "      display: none;\n",
              "      fill: #1967D2;\n",
              "      height: 32px;\n",
              "      padding: 0 0 0 0;\n",
              "      width: 32px;\n",
              "    }\n",
              "\n",
              "    .colab-df-convert:hover {\n",
              "      background-color: #E2EBFA;\n",
              "      box-shadow: 0px 1px 2px rgba(60, 64, 67, 0.3), 0px 1px 3px 1px rgba(60, 64, 67, 0.15);\n",
              "      fill: #174EA6;\n",
              "    }\n",
              "\n",
              "    [theme=dark] .colab-df-convert {\n",
              "      background-color: #3B4455;\n",
              "      fill: #D2E3FC;\n",
              "    }\n",
              "\n",
              "    [theme=dark] .colab-df-convert:hover {\n",
              "      background-color: #434B5C;\n",
              "      box-shadow: 0px 1px 3px 1px rgba(0, 0, 0, 0.15);\n",
              "      filter: drop-shadow(0px 1px 2px rgba(0, 0, 0, 0.3));\n",
              "      fill: #FFFFFF;\n",
              "    }\n",
              "  </style>\n",
              "\n",
              "      <script>\n",
              "        const buttonEl =\n",
              "          document.querySelector('#df-e8ad4d0f-91d1-4bc6-8841-bd2d716b019e button.colab-df-convert');\n",
              "        buttonEl.style.display =\n",
              "          google.colab.kernel.accessAllowed ? 'block' : 'none';\n",
              "\n",
              "        async function convertToInteractive(key) {\n",
              "          const element = document.querySelector('#df-e8ad4d0f-91d1-4bc6-8841-bd2d716b019e');\n",
              "          const dataTable =\n",
              "            await google.colab.kernel.invokeFunction('convertToInteractive',\n",
              "                                                     [key], {});\n",
              "          if (!dataTable) return;\n",
              "\n",
              "          const docLinkHtml = 'Like what you see? Visit the ' +\n",
              "            '<a target=\"_blank\" href=https://colab.research.google.com/notebooks/data_table.ipynb>data table notebook</a>'\n",
              "            + ' to learn more about interactive tables.';\n",
              "          element.innerHTML = '';\n",
              "          dataTable['output_type'] = 'display_data';\n",
              "          await google.colab.output.renderOutput(dataTable, element);\n",
              "          const docLink = document.createElement('div');\n",
              "          docLink.innerHTML = docLinkHtml;\n",
              "          element.appendChild(docLink);\n",
              "        }\n",
              "      </script>\n",
              "    </div>\n",
              "  </div>\n",
              "  "
            ]
          },
          "metadata": {},
          "execution_count": 11
        }
      ]
    },
    {
      "cell_type": "code",
      "source": [
        "#df.info() provides a summary of the DataFrame, including the column names, the data types of each column,\n",
        "#the number of non-null values, and the memory usage. It's a useful method to quickly check the basic information about the dataset.\n",
        "df.info()"
      ],
      "metadata": {
        "id": "ZKEO7ZJft9b5",
        "outputId": "156efe3d-23ae-4958-e7a8-5556fd2b3530",
        "colab": {
          "base_uri": "https://localhost:8080/"
        }
      },
      "execution_count": 12,
      "outputs": [
        {
          "output_type": "stream",
          "name": "stdout",
          "text": [
            "<class 'pandas.core.frame.DataFrame'>\n",
            "RangeIndex: 22544 entries, 0 to 22543\n",
            "Data columns (total 40 columns):\n",
            " #   Column                       Non-Null Count  Dtype  \n",
            "---  ------                       --------------  -----  \n",
            " 0   duration                     22544 non-null  int64  \n",
            " 1   protocol_type                22544 non-null  object \n",
            " 2   service                      22544 non-null  object \n",
            " 3   flag                         22544 non-null  object \n",
            " 4   src_bytes                    22538 non-null  float64\n",
            " 5   dst_bytes                    22538 non-null  float64\n",
            " 6   land                         22544 non-null  int64  \n",
            " 7   wrong_fragment               22544 non-null  int64  \n",
            " 8   urgent                       22544 non-null  int64  \n",
            " 9   hot                          22544 non-null  int64  \n",
            " 10  num_failed_logins            22544 non-null  int64  \n",
            " 11  logged_in                    22544 non-null  int64  \n",
            " 12  num_compromised              22544 non-null  int64  \n",
            " 13  root_shell                   22544 non-null  int64  \n",
            " 14  num_root                     22544 non-null  int64  \n",
            " 15  num_shells                   22544 non-null  int64  \n",
            " 16  num_access_files             22544 non-null  int64  \n",
            " 17  num_outbound_cmds            22544 non-null  int64  \n",
            " 18  is_host_login                22544 non-null  int64  \n",
            " 19  is_guest_login               22544 non-null  int64  \n",
            " 20  count                        22535 non-null  float64\n",
            " 21  srv_count                    22535 non-null  float64\n",
            " 22  serror_rate                  22544 non-null  float64\n",
            " 23  srv_serror_rate              22544 non-null  float64\n",
            " 24  rerror_rate                  22544 non-null  float64\n",
            " 25  srv_rerror_rate              22544 non-null  float64\n",
            " 26  same_srv_rate                22544 non-null  float64\n",
            " 27  diff_srv_rate                22544 non-null  float64\n",
            " 28  srv_diff_host_rate           22544 non-null  float64\n",
            " 29  dst_host_count               22544 non-null  int64  \n",
            " 30  dst_host_srv_count           22544 non-null  int64  \n",
            " 31  dst_host_same_srv_rate       22544 non-null  float64\n",
            " 32  dst_host_diff_srv_rate       22544 non-null  float64\n",
            " 33  dst_host_same_src_port_rate  22544 non-null  float64\n",
            " 34  dst_host_srv_diff_host_rate  22544 non-null  float64\n",
            " 35  dst_host_serror_rate         22544 non-null  float64\n",
            " 36  dst_host_srv_serror_rate     22544 non-null  float64\n",
            " 37  dst_host_rerror_rate         22544 non-null  float64\n",
            " 38  dst_host_srv_rerror_rate     22544 non-null  float64\n",
            " 39  class                        22544 non-null  object \n",
            "dtypes: float64(19), int64(17), object(4)\n",
            "memory usage: 6.9+ MB\n"
          ]
        }
      ]
    },
    {
      "cell_type": "code",
      "source": [
        "normal_count = (df[\"class\"] == \"normal\").sum()\n",
        "print(\"Number of rows with normal in class column:\", normal_count)"
      ],
      "metadata": {
        "colab": {
          "base_uri": "https://localhost:8080/"
        },
        "id": "kWRVfHZYIOkj",
        "outputId": "9fb83095-abf4-4de1-f392-c09c29fe9f2c"
      },
      "execution_count": 13,
      "outputs": [
        {
          "output_type": "stream",
          "name": "stdout",
          "text": [
            "Number of rows with normal in class column: 9711\n"
          ]
        }
      ]
    },
    {
      "cell_type": "markdown",
      "source": [
        "#Data Preprocessing"
      ],
      "metadata": {
        "id": "hbkhI9-ygbWs"
      }
    },
    {
      "cell_type": "code",
      "source": [
        "# Check for missing values\n",
        "print(df.isnull().sum())\n",
        "\n",
        "# Replace missing values with the mean of the corresponding feature column\n",
        "df.fillna(df.mean(), inplace=True)"
      ],
      "metadata": {
        "colab": {
          "base_uri": "https://localhost:8080/"
        },
        "id": "JLF8gjxqnuZo",
        "outputId": "dbf71d31-2489-4b41-c3e8-99b23e53ad74"
      },
      "execution_count": 14,
      "outputs": [
        {
          "output_type": "stream",
          "name": "stdout",
          "text": [
            "duration                       0\n",
            "protocol_type                  0\n",
            "service                        0\n",
            "flag                           0\n",
            "src_bytes                      6\n",
            "dst_bytes                      6\n",
            "land                           0\n",
            "wrong_fragment                 0\n",
            "urgent                         0\n",
            "hot                            0\n",
            "num_failed_logins              0\n",
            "logged_in                      0\n",
            "num_compromised                0\n",
            "root_shell                     0\n",
            "num_root                       0\n",
            "num_shells                     0\n",
            "num_access_files               0\n",
            "num_outbound_cmds              0\n",
            "is_host_login                  0\n",
            "is_guest_login                 0\n",
            "count                          9\n",
            "srv_count                      9\n",
            "serror_rate                    0\n",
            "srv_serror_rate                0\n",
            "rerror_rate                    0\n",
            "srv_rerror_rate                0\n",
            "same_srv_rate                  0\n",
            "diff_srv_rate                  0\n",
            "srv_diff_host_rate             0\n",
            "dst_host_count                 0\n",
            "dst_host_srv_count             0\n",
            "dst_host_same_srv_rate         0\n",
            "dst_host_diff_srv_rate         0\n",
            "dst_host_same_src_port_rate    0\n",
            "dst_host_srv_diff_host_rate    0\n",
            "dst_host_serror_rate           0\n",
            "dst_host_srv_serror_rate       0\n",
            "dst_host_rerror_rate           0\n",
            "dst_host_srv_rerror_rate       0\n",
            "class                          0\n",
            "dtype: int64\n"
          ]
        },
        {
          "output_type": "stream",
          "name": "stderr",
          "text": [
            "<ipython-input-14-f6667c0a775e>:5: FutureWarning: The default value of numeric_only in DataFrame.mean is deprecated. In a future version, it will default to False. In addition, specifying 'numeric_only=None' is deprecated. Select only valid columns or specify the value of numeric_only to silence this warning.\n",
            "  df.fillna(df.mean(), inplace=True)\n"
          ]
        }
      ]
    },
    {
      "cell_type": "code",
      "source": [
        "# Separate the features and the target variable\n",
        "X = df.iloc[:, :-1].values\n",
        "y = df.iloc[:, -1].values"
      ],
      "metadata": {
        "id": "vP06vRm5ghAe"
      },
      "execution_count": 15,
      "outputs": []
    },
    {
      "cell_type": "code",
      "source": [
        "y"
      ],
      "metadata": {
        "colab": {
          "base_uri": "https://localhost:8080/"
        },
        "id": "jA4te3VRm2Si",
        "outputId": "1bdc3656-4e5c-448f-ffde-a2af3247d2cb"
      },
      "execution_count": 16,
      "outputs": [
        {
          "output_type": "execute_result",
          "data": {
            "text/plain": [
              "array(['anomaly', 'anomaly', 'normal', ..., 'anomaly', 'normal',\n",
              "       'anomaly'], dtype=object)"
            ]
          },
          "metadata": {},
          "execution_count": 16
        }
      ]
    },
    {
      "cell_type": "code",
      "source": [
        "# Encode categorical variables\n",
        "# This code is used to encode categorical variables as numerical values so that they can be used as input for machine learning algorithms, \n",
        "# which typically require numerical inputs. The LabelEncoder function is used to convert the categorical values into a series of integers.\n",
        "le = LabelEncoder()\n",
        "X[:, 1] = le.fit_transform(X[:, 1])\n",
        "X[:, 2] = le.fit_transform(X[:, 2])\n",
        "X[:, 3] = le.fit_transform(X[:, 3])"
      ],
      "metadata": {
        "id": "VTPztsm8m4JV"
      },
      "execution_count": 17,
      "outputs": []
    },
    {
      "cell_type": "code",
      "source": [
        "#Scale the features\n",
        "#This code snippet scales the features of the data to ensure that each feature has the same scale,\n",
        "#which can improve the performance of machine learning algorithms that rely on distance measures. \n",
        "#The StandardScaler() function transforms the data such that its distribution will have a mean of 0 and standard deviation of 1, making it easier to compare features with different scales.\n",
        "scaler = StandardScaler()\n",
        "X = scaler.fit_transform(X)"
      ],
      "metadata": {
        "id": "bfMVVp11nDlp"
      },
      "execution_count": 18,
      "outputs": []
    },
    {
      "cell_type": "code",
      "source": [
        "#Split to train and test\n",
        "X_train, X_test, y_train, y_test = train_test_split(X, y, test_size=0.4, random_state=42)"
      ],
      "metadata": {
        "id": "fEy9CNIbnH3O"
      },
      "execution_count": 19,
      "outputs": []
    },
    {
      "cell_type": "code",
      "source": [
        "X_train.shape"
      ],
      "metadata": {
        "colab": {
          "base_uri": "https://localhost:8080/"
        },
        "id": "DWnBzdOdnPsP",
        "outputId": "b306aa20-06ef-4b7b-844f-d21786af38e3"
      },
      "execution_count": 20,
      "outputs": [
        {
          "output_type": "execute_result",
          "data": {
            "text/plain": [
              "(13526, 39)"
            ]
          },
          "metadata": {},
          "execution_count": 20
        }
      ]
    },
    {
      "cell_type": "markdown",
      "source": [
        "#Training The ML Model"
      ],
      "metadata": {
        "id": "LSW2g7ZMW4AS"
      }
    },
    {
      "cell_type": "markdown",
      "source": [
        "**A decision tree**: is a tree-based model used for both classification and regression tasks. \n",
        "\n",
        "1.   It works by recursively splitting the dataset into smaller subsets while creating the decision rules\n",
        "2.   The decision rules are based on the features that best split the data, i.e., the features that provide the most information gain.\n",
        "1.    The information gain is measured using metrics such as entropy, Gini impurity,or variance reduction.\n",
        "2.   At each node of the decision tree, the model asks a question based on one of the features, and then moves to one of the two child nodes based on the answer to the question.\n",
        "1.    This process continues until a stopping criterion is met, such as reaching a maximum depth or a minimum number of samples at a leaf node.\n",
        "\n",
        "When used for classification, the final leaves of the tree correspond to the predicted class labels, and when used for regression, the final leaves correspond to the predicted values.\n",
        "\n",
        "\n",
        "\n",
        "---\n",
        "\n",
        "\n",
        "\n",
        "**Cross-validation**: is a technique used to evaluate the performance of a machine learning model. \n",
        "\n",
        "1. It involves splitting the available data into two sets: a training set and a validation set.\n",
        "2. The process is repeated multiple times with different subsets of the data to ensure that the model is not overfitting to the training set. \n",
        "1. In k-fold cross-validation, the data is divided into k equal subsets (or folds)\n",
        "2.  The results are then averaged to give a final performance metric.\n",
        "\n",
        "\n",
        "\n"
      ],
      "metadata": {
        "id": "qbVmPDRycDU9"
      }
    },
    {
      "cell_type": "code",
      "source": [
        "# Train a decision tree classifier\n",
        "dtc = DecisionTreeClassifier()\n",
        "cv_scores = cross_val_score(dtc, X_train, y_train, cv=5)\n",
        "dtc.fit(X_train, y_train)"
      ],
      "metadata": {
        "colab": {
          "base_uri": "https://localhost:8080/",
          "height": 75
        },
        "id": "olIycECenI9n",
        "outputId": "d6282b87-ee8d-4d0a-a9df-070683c425cd"
      },
      "execution_count": 21,
      "outputs": [
        {
          "output_type": "execute_result",
          "data": {
            "text/plain": [
              "DecisionTreeClassifier()"
            ],
            "text/html": [
              "<style>#sk-container-id-1 {color: black;background-color: white;}#sk-container-id-1 pre{padding: 0;}#sk-container-id-1 div.sk-toggleable {background-color: white;}#sk-container-id-1 label.sk-toggleable__label {cursor: pointer;display: block;width: 100%;margin-bottom: 0;padding: 0.3em;box-sizing: border-box;text-align: center;}#sk-container-id-1 label.sk-toggleable__label-arrow:before {content: \"▸\";float: left;margin-right: 0.25em;color: #696969;}#sk-container-id-1 label.sk-toggleable__label-arrow:hover:before {color: black;}#sk-container-id-1 div.sk-estimator:hover label.sk-toggleable__label-arrow:before {color: black;}#sk-container-id-1 div.sk-toggleable__content {max-height: 0;max-width: 0;overflow: hidden;text-align: left;background-color: #f0f8ff;}#sk-container-id-1 div.sk-toggleable__content pre {margin: 0.2em;color: black;border-radius: 0.25em;background-color: #f0f8ff;}#sk-container-id-1 input.sk-toggleable__control:checked~div.sk-toggleable__content {max-height: 200px;max-width: 100%;overflow: auto;}#sk-container-id-1 input.sk-toggleable__control:checked~label.sk-toggleable__label-arrow:before {content: \"▾\";}#sk-container-id-1 div.sk-estimator input.sk-toggleable__control:checked~label.sk-toggleable__label {background-color: #d4ebff;}#sk-container-id-1 div.sk-label input.sk-toggleable__control:checked~label.sk-toggleable__label {background-color: #d4ebff;}#sk-container-id-1 input.sk-hidden--visually {border: 0;clip: rect(1px 1px 1px 1px);clip: rect(1px, 1px, 1px, 1px);height: 1px;margin: -1px;overflow: hidden;padding: 0;position: absolute;width: 1px;}#sk-container-id-1 div.sk-estimator {font-family: monospace;background-color: #f0f8ff;border: 1px dotted black;border-radius: 0.25em;box-sizing: border-box;margin-bottom: 0.5em;}#sk-container-id-1 div.sk-estimator:hover {background-color: #d4ebff;}#sk-container-id-1 div.sk-parallel-item::after {content: \"\";width: 100%;border-bottom: 1px solid gray;flex-grow: 1;}#sk-container-id-1 div.sk-label:hover label.sk-toggleable__label {background-color: #d4ebff;}#sk-container-id-1 div.sk-serial::before {content: \"\";position: absolute;border-left: 1px solid gray;box-sizing: border-box;top: 0;bottom: 0;left: 50%;z-index: 0;}#sk-container-id-1 div.sk-serial {display: flex;flex-direction: column;align-items: center;background-color: white;padding-right: 0.2em;padding-left: 0.2em;position: relative;}#sk-container-id-1 div.sk-item {position: relative;z-index: 1;}#sk-container-id-1 div.sk-parallel {display: flex;align-items: stretch;justify-content: center;background-color: white;position: relative;}#sk-container-id-1 div.sk-item::before, #sk-container-id-1 div.sk-parallel-item::before {content: \"\";position: absolute;border-left: 1px solid gray;box-sizing: border-box;top: 0;bottom: 0;left: 50%;z-index: -1;}#sk-container-id-1 div.sk-parallel-item {display: flex;flex-direction: column;z-index: 1;position: relative;background-color: white;}#sk-container-id-1 div.sk-parallel-item:first-child::after {align-self: flex-end;width: 50%;}#sk-container-id-1 div.sk-parallel-item:last-child::after {align-self: flex-start;width: 50%;}#sk-container-id-1 div.sk-parallel-item:only-child::after {width: 0;}#sk-container-id-1 div.sk-dashed-wrapped {border: 1px dashed gray;margin: 0 0.4em 0.5em 0.4em;box-sizing: border-box;padding-bottom: 0.4em;background-color: white;}#sk-container-id-1 div.sk-label label {font-family: monospace;font-weight: bold;display: inline-block;line-height: 1.2em;}#sk-container-id-1 div.sk-label-container {text-align: center;}#sk-container-id-1 div.sk-container {/* jupyter's `normalize.less` sets `[hidden] { display: none; }` but bootstrap.min.css set `[hidden] { display: none !important; }` so we also need the `!important` here to be able to override the default hidden behavior on the sphinx rendered scikit-learn.org. See: https://github.com/scikit-learn/scikit-learn/issues/21755 */display: inline-block !important;position: relative;}#sk-container-id-1 div.sk-text-repr-fallback {display: none;}</style><div id=\"sk-container-id-1\" class=\"sk-top-container\"><div class=\"sk-text-repr-fallback\"><pre>DecisionTreeClassifier()</pre><b>In a Jupyter environment, please rerun this cell to show the HTML representation or trust the notebook. <br />On GitHub, the HTML representation is unable to render, please try loading this page with nbviewer.org.</b></div><div class=\"sk-container\" hidden><div class=\"sk-item\"><div class=\"sk-estimator sk-toggleable\"><input class=\"sk-toggleable__control sk-hidden--visually\" id=\"sk-estimator-id-1\" type=\"checkbox\" checked><label for=\"sk-estimator-id-1\" class=\"sk-toggleable__label sk-toggleable__label-arrow\">DecisionTreeClassifier</label><div class=\"sk-toggleable__content\"><pre>DecisionTreeClassifier()</pre></div></div></div></div></div>"
            ]
          },
          "metadata": {},
          "execution_count": 21
        }
      ]
    },
    {
      "cell_type": "markdown",
      "source": [
        "**Notes**\n",
        "\n",
        "*If the cross-validation scores are much lower than the training scores, it may be a sign of overfitting, meaning the model is fitting too closely to the training data and is not generalizing well to new data. If the cross-validation scores are much higher than the training scores, it may be a sign of underfitting, meaning the model is not fitting the training data well and is not able to capture the patterns in the data.*"
      ],
      "metadata": {
        "id": "JYAgoKNxdx-J"
      }
    },
    {
      "cell_type": "code",
      "source": [
        "cv_scores"
      ],
      "metadata": {
        "colab": {
          "base_uri": "https://localhost:8080/"
        },
        "id": "YXn9iQAdDo2O",
        "outputId": "28cba4bf-8939-440d-c2eb-59d255376627"
      },
      "execution_count": 22,
      "outputs": [
        {
          "output_type": "execute_result",
          "data": {
            "text/plain": [
              "array([0.98300074, 0.97744917, 0.97892791, 0.98410351, 0.97449168])"
            ]
          },
          "metadata": {},
          "execution_count": 22
        }
      ]
    },
    {
      "cell_type": "code",
      "source": [
        "# Make predictions on the testing set\n",
        "y_pred = dtc.predict(X_test)"
      ],
      "metadata": {
        "id": "XSwY_94kxvcL"
      },
      "execution_count": 23,
      "outputs": []
    },
    {
      "cell_type": "markdown",
      "source": [
        "# Performance Evaluation"
      ],
      "metadata": {
        "id": "UXGreKPeW--T"
      }
    },
    {
      "cell_type": "code",
      "source": [
        "# Evaluate the performance of the model\n",
        "accuracy = accuracy_score(y_test, y_pred)\n",
        "confusion = confusion_matrix(y_test, y_pred)\n",
        "\n",
        "print('Accuracy:', accuracy)\n",
        "print('Confusion matrix:', confusion)"
      ],
      "metadata": {
        "colab": {
          "base_uri": "https://localhost:8080/"
        },
        "id": "Zryztgjax2ir",
        "outputId": "b9819dcb-a3d7-47f5-c4d4-064e1654fc9c"
      },
      "execution_count": 27,
      "outputs": [
        {
          "output_type": "stream",
          "name": "stdout",
          "text": [
            "Accuracy: 0.983255710800621\n",
            "Confusion matrix: [[5059   75]\n",
            " [  76 3808]]\n"
          ]
        }
      ]
    },
    {
      "cell_type": "markdown",
      "source": [
        "**A confusion matrix** is a table that is often used to describe the performance of a classification model on a set of test data for which the true values are known. It allows the visualization of the performance of an algorithm.\n",
        "\n",
        "**A confusion matrix** consists of four numbers, which summarize the number of correct and incorrect predictions made by a classifier:\n",
        "\n",
        "1.   True Positive (TP): Actual positive instances that are correctly positive.\n",
        "2.  False Positive (FP): Actual negative instances that are incorrectly classified as positive.\n",
        "2.  True Negative (TN): Actual negative instances that are correctly classified as negative.\n",
        "1.   False Negative (FN): Actual positive instances that are incorrectly classified as negative.\n",
        "\n",
        "\n",
        "By comparing these values, we can evaluate the accuracy of a classifier. It can also be used to calculate other metrics such as precision, recall, and F1-score."
      ],
      "metadata": {
        "id": "yvgeyvBqfID8"
      }
    },
    {
      "cell_type": "markdown",
      "source": [
        "![1_fxiTNIgOyvAombPJx5KGeA.png](data:image/png;base64,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)"
      ],
      "metadata": {
        "id": "S6dkQwGZeYCb"
      }
    },
    {
      "cell_type": "code",
      "source": [
        "# Plot the confusion matrix\n",
        "plt.figure(figsize=(6, 6))\n",
        "sns.heatmap(confusion, annot=True, fmt='d',cmap=plt.cm.Blues)\n",
        "plt.xlabel('Predicted labels')\n",
        "plt.ylabel('True labels')\n",
        "plt.show()"
      ],
      "metadata": {
        "colab": {
          "base_uri": "https://localhost:8080/",
          "height": 542
        },
        "id": "SGGiHkQc5Fch",
        "outputId": "7f366476-e782-4fa9-c14c-5a5610703be4"
      },
      "execution_count": 29,
      "outputs": [
        {
          "output_type": "display_data",
          "data": {
            "text/plain": [
              "<Figure size 600x600 with 2 Axes>"
            ],
            "image/png": "[encoded data removed]"
          },
          "metadata": {}
        }
      ]
    },
    {
      "cell_type": "markdown",
      "source": [
        "1.   Accuracy: the proportion of correct predictions to total predictions.\n",
        "1.   Precision: the proportion of true positives to total positive predictions.\n",
        "2.   Recall: the proportion of true positives to total actual positives.\n",
        "2.   F1-score: a harmonic mean of precision and recall, where 1 represents perfect precision and recall."
      ],
      "metadata": {
        "id": "5AP6KeSNf7Tn"
      }
    },
    {
      "cell_type": "code",
      "source": [
        "y_test_pred = dtc.predict(X_test)\n",
        "print(classification_report(y_test, y_test_pred))\n"
      ],
      "metadata": {
        "colab": {
          "base_uri": "https://localhost:8080/"
        },
        "id": "XcfuDYLyzTJt",
        "outputId": "63c6d231-4512-47a5-ba85-246df3438913"
      },
      "execution_count": 30,
      "outputs": [
        {
          "output_type": "stream",
          "name": "stdout",
          "text": [
            "              precision    recall  f1-score   support\n",
            "\n",
            "     anomaly       0.99      0.99      0.99      5134\n",
            "      normal       0.98      0.98      0.98      3884\n",
            "\n",
            "    accuracy                           0.98      9018\n",
            "   macro avg       0.98      0.98      0.98      9018\n",
            "weighted avg       0.98      0.98      0.98      9018\n",
            "\n"
          ]
        }
      ]
    },
    {
      "cell_type": "code",
      "source": [
        "# Plot the feature importances\n",
        "feat_importances = pd.Series(dtc.feature_importances_, index=df.columns[:-1])\n",
        "feat_importances.nlargest(10).plot(kind='barh')\n",
        "plt.show()"
      ],
      "metadata": {
        "colab": {
          "base_uri": "https://localhost:8080/",
          "height": 430
        },
        "id": "9SqUjXLuyjVT",
        "outputId": "1e2549c6-3e7d-454c-945b-e6ae046d7e20"
      },
      "execution_count": 31,
      "outputs": [
        {
          "output_type": "display_data",
          "data": {
            "text/plain": [
              "<Figure size 640x480 with 1 Axes>"
            ],
            "image/png": "[encoded data removed]"
          },
          "metadata": {}
        }
      ]
    },
    {
      "cell_type": "code",
      "source": [
        "y_test"
      ],
      "metadata": {
        "colab": {
          "base_uri": "https://localhost:8080/"
        },
        "id": "vu2IiqakC-hD",
        "outputId": "1647e356-11d0-48ed-d3a9-ca4db60678c1"
      },
      "execution_count": 32,
      "outputs": [
        {
          "output_type": "execute_result",
          "data": {
            "text/plain": [
              "array(['normal', 'anomaly', 'normal', ..., 'normal', 'anomaly', 'normal'],\n",
              "      dtype=object)"
            ]
          },
          "metadata": {},
          "execution_count": 32
        }
      ]
    },
    {
      "cell_type": "markdown",
      "source": [
        "**The Receiver Operating Characteristic (ROC) curve** is a graphical representation of the performance of a binary classification model. \n",
        "\n",
        "- It plots the True Positive Rate (TPR) against the False Positive Rate (FPR) at various thresholds. \n",
        "- The TPR is the proportion of actual positive cases that are correctly classified as positive, while the FPR is the proportion of actual negative cases that are incorrectly classified as positive.\n",
        "- The curve shows the trade-off between TPR and FPR and is useful in determining the optimal threshold for the model, as well as assessing its overall performance. \n",
        "\n",
        "A better model will have a higher area under the ROC curve (AUC), indicating better classification performance."
      ],
      "metadata": {
        "id": "qEqguqlqgTUr"
      }
    },
    {
      "cell_type": "code",
      "source": [
        "# Convert y_true labels to binary values\n",
        "y_test_binary = label_binarize(y_test, classes=[\"normal\", \"anomaly\"])\n",
        "y_pred_binary = label_binarize(y_pred, classes=[\"normal\", \"anomaly\"])\n",
        "\n",
        "# Compute ROC curve and ROC area for each class\n",
        "fpr, tpr, _ = roc_curve(y_test_binary.ravel(), y_pred_binary.ravel())\n",
        "roc_auc = auc(fpr, tpr)\n",
        "\n",
        "# Plot ROC curve\n",
        "plt.figure()\n",
        "plt.plot(fpr, tpr, color='darkorange', lw=2, label='ROC curve (area = %0.2f)' % roc_auc)\n",
        "plt.plot([0, 1], [0, 1], color='navy', lw=2, linestyle='--')\n",
        "plt.xlim([0.0, 1.0])\n",
        "plt.ylim([0.0, 1.05])\n",
        "plt.xlabel('False Positive Rate')\n",
        "plt.ylabel('True Positive Rate')\n",
        "plt.title('Receiver Operating Characteristic')\n",
        "plt.legend(loc=\"lower right\")\n",
        "plt.show()\n"
      ],
      "metadata": {
        "colab": {
          "base_uri": "https://localhost:8080/",
          "height": 472
        },
        "id": "LNgUoeB5EoKe",
        "outputId": "9c68785a-4f84-4eed-9065-e27d662a1ec8"
      },
      "execution_count": 33,
      "outputs": [
        {
          "output_type": "display_data",
          "data": {
            "text/plain": [
              "<Figure size 640x480 with 1 Axes>"
            ],
            "image/png": "[encoded data removed]"
          },
          "metadata": {}
        }
      ]
    },
    {
      "cell_type": "markdown",
      "source": [
        "**The calibration curve** is a graphical representation of the agreement between the observed outcomes and the predicted probabilities of a classification model. \n",
        "\n",
        "- In a perfectly calibrated model, the predicted probabilities of the positive class would be equal to the observed probabilities, resulting in a diagonal line from the bottom left corner to the top right corner."
      ],
      "metadata": {
        "id": "3ecMy1tOgicc"
      }
    },
    {
      "cell_type": "code",
      "source": [
        "# get the fraction of positives and mean predicted probabilities for each bin\n",
        "fraction_of_positives, mean_predicted_value = calibration_curve(y_test_binary, y_pred_binary, n_bins=10)\n",
        "\n",
        "# plot the calibration curve\n",
        "plt.plot(mean_predicted_value, fraction_of_positives, 's-', label='Model')\n",
        "plt.plot([0, 1], [0, 1], 'k--', label='Perfectly calibrated')\n",
        "plt.xlabel('Mean predicted probability')\n",
        "plt.ylabel('Fraction of positives')\n",
        "plt.legend()\n",
        "plt.show()\n"
      ],
      "metadata": {
        "colab": {
          "base_uri": "https://localhost:8080/",
          "height": 449
        },
        "id": "B33-lzz1GLKm",
        "outputId": "bb9d458f-2b1d-4f0a-cb71-79bcca81ab07"
      },
      "execution_count": 34,
      "outputs": [
        {
          "output_type": "display_data",
          "data": {
            "text/plain": [
              "<Figure size 640x480 with 1 Axes>"
            ],
            "image/png": "[encoded data removed]"
          },
          "metadata": {}
        }
      ]
    }
  ]
}